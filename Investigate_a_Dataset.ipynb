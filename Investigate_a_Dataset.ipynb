{
 "cells": [
  {
   "cell_type": "markdown",
   "metadata": {},
   "source": [
    "> **Tip**: Welcome to the Investigate a Dataset project! You will find tips in quoted sections like this to help organize your approach to your investigation. Once you complete this project, remove these **Tip** sections from your report before submission. First things first, you might want to double-click this Markdown cell and change the title so that it reflects your dataset and investigation.\n",
    "\n",
    "# Project: TMDb movie data\n",
    "\n",
    "## Table of Contents\n",
    "<ul>\n",
    "<li><a href=\"#intro\">Introduction</a></li>\n",
    "<li><a href=\"#wrangling\">Data Wrangling</a></li>\n",
    "<li><a href=\"#eda\">Exploratory Data Analysis</a></li>\n",
    "<li><a href=\"#conclusions\">Conclusions</a></li>\n",
    "</ul>"
   ]
  },
  {
   "cell_type": "markdown",
   "metadata": {},
   "source": [
    "<a id='intro'></a>\n",
    "## Introduction\n",
    "\n",
    "### Dataset Description \n",
    "\n",
    "> **Tip**: In this section of the report, provide a brief introduction to the dataset you've selected/downloaded for analysis. Read through the description available on the homepage-links present [here](https://docs.google.com/document/d/e/2PACX-1vTlVmknRRnfy_4eTrjw5hYGaiQim5ctr9naaRd4V9du2B5bxpd8FEH3KtDgp8qVekw7Cj1GLk1IXdZi/pub?embedded=True). List all column names in each table, and their significance. In case of multiple tables, describe the relationship between tables. \n",
    "\n",
    "\n",
    "### Question(s) for Analysis\n",
    ">**Tip**: Clearly state one or more questions that you plan on exploring over the course of the report. You will address these questions in the **data analysis** and **conclusion** sections. Try to build your report around the analysis of at least one dependent variable and three independent variables. If you're not sure what questions to ask, then make sure you familiarize yourself with the dataset, its variables and the dataset context for ideas of what to explore.\n",
    "\n",
    "> **Tip**: Once you start coding, use NumPy arrays, Pandas Series, and DataFrames where appropriate rather than Python lists and dictionaries. Also, **use good coding practices**, such as, define and use functions to avoid repetitive code. Use appropriate comments within the code cells, explanation in the mark-down cells, and meaningful variable names. "
   ]
  },
  {
   "cell_type": "code",
   "execution_count": 104,
   "metadata": {},
   "outputs": [],
   "source": [
    "import numpy as np\n",
    "import pandas as pd\n",
    "import matplotlib.pyplot as plt\n",
    "import seaborn as sns\n",
    "%matplotlib inline\n",
    "plt.style.use(\"ggplot\")"
   ]
  },
  {
   "cell_type": "markdown",
   "metadata": {},
   "source": [
    "<a id='wrangling'></a>\n",
    "## Data Wrangling\n",
    "\n",
    "> **Tip**: In this section of the report, you will load in the data, check for cleanliness, and then trim and clean your dataset for analysis. Make sure that you **document your data cleaning steps in mark-down cells precisely and justify your cleaning decisions.**\n",
    "\n",
    "\n",
    "### General Properties\n",
    "> **Tip**: You should _not_ perform too many operations in each cell. Create cells freely to explore your data. One option that you can take with this project is to do a lot of explorations in an initial notebook. These don't have to be organized, but make sure you use enough comments to understand the purpose of each code cell. Then, after you're done with your analysis, create a duplicate notebook where you will trim the excess and organize your steps so that you have a flowing, cohesive report."
   ]
  },
  {
   "cell_type": "code",
   "execution_count": 105,
   "metadata": {
    "scrolled": true
   },
   "outputs": [],
   "source": [
    "df_tmdb = pd.read_csv(\"tmdb-movies.csv\")"
   ]
  },
  {
   "cell_type": "code",
   "execution_count": 106,
   "metadata": {},
   "outputs": [
    {
     "data": {
      "text/html": [
       "<div>\n",
       "<style scoped>\n",
       "    .dataframe tbody tr th:only-of-type {\n",
       "        vertical-align: middle;\n",
       "    }\n",
       "\n",
       "    .dataframe tbody tr th {\n",
       "        vertical-align: top;\n",
       "    }\n",
       "\n",
       "    .dataframe thead th {\n",
       "        text-align: right;\n",
       "    }\n",
       "</style>\n",
       "<table border=\"1\" class=\"dataframe\">\n",
       "  <thead>\n",
       "    <tr style=\"text-align: right;\">\n",
       "      <th></th>\n",
       "      <th>id</th>\n",
       "      <th>imdb_id</th>\n",
       "      <th>popularity</th>\n",
       "      <th>budget</th>\n",
       "      <th>revenue</th>\n",
       "      <th>original_title</th>\n",
       "      <th>cast</th>\n",
       "      <th>homepage</th>\n",
       "      <th>director</th>\n",
       "      <th>tagline</th>\n",
       "      <th>...</th>\n",
       "      <th>overview</th>\n",
       "      <th>runtime</th>\n",
       "      <th>genres</th>\n",
       "      <th>production_companies</th>\n",
       "      <th>release_date</th>\n",
       "      <th>vote_count</th>\n",
       "      <th>vote_average</th>\n",
       "      <th>release_year</th>\n",
       "      <th>budget_adj</th>\n",
       "      <th>revenue_adj</th>\n",
       "    </tr>\n",
       "  </thead>\n",
       "  <tbody>\n",
       "    <tr>\n",
       "      <th>4296</th>\n",
       "      <td>17809</td>\n",
       "      <td>tt0110200</td>\n",
       "      <td>0.310592</td>\n",
       "      <td>0</td>\n",
       "      <td>1907743</td>\n",
       "      <td>Jing wu ying xiong</td>\n",
       "      <td>Jet Li|Shinobu Nakayama|Chin Siu-Ho|Paul Chun ...</td>\n",
       "      <td>NaN</td>\n",
       "      <td>Gordon Chan</td>\n",
       "      <td>To avenge his masters death, He'll fight like ...</td>\n",
       "      <td>...</td>\n",
       "      <td>Chen Zhen, a Chinese engineering student in Ky...</td>\n",
       "      <td>103</td>\n",
       "      <td>Action</td>\n",
       "      <td>Eastern Productions</td>\n",
       "      <td>12/22/94</td>\n",
       "      <td>53</td>\n",
       "      <td>7.5</td>\n",
       "      <td>1994</td>\n",
       "      <td>0.000000e+00</td>\n",
       "      <td>2.806503e+06</td>\n",
       "    </tr>\n",
       "    <tr>\n",
       "      <th>1019</th>\n",
       "      <td>253849</td>\n",
       "      <td>tt1418754</td>\n",
       "      <td>0.304992</td>\n",
       "      <td>0</td>\n",
       "      <td>0</td>\n",
       "      <td>John Doe: Vigilante</td>\n",
       "      <td>Jamie Bamber|Lachy Hulme|Paul O'Brien|Sam Pars...</td>\n",
       "      <td>http://johndoevigilantefilm.com/</td>\n",
       "      <td>Kelly Dolen</td>\n",
       "      <td>Hero or Villain? Justice or Vengeance? You Dec...</td>\n",
       "      <td>...</td>\n",
       "      <td>Jamie Bamber portrays John Doe â€“ a man accus...</td>\n",
       "      <td>93</td>\n",
       "      <td>Thriller|Crime</td>\n",
       "      <td>Screen Corporation|Rapidfire Entertainment</td>\n",
       "      <td>3/21/14</td>\n",
       "      <td>32</td>\n",
       "      <td>6.2</td>\n",
       "      <td>2014</td>\n",
       "      <td>0.000000e+00</td>\n",
       "      <td>0.000000e+00</td>\n",
       "    </tr>\n",
       "    <tr>\n",
       "      <th>6078</th>\n",
       "      <td>376823</td>\n",
       "      <td>tt3231100</td>\n",
       "      <td>0.002647</td>\n",
       "      <td>0</td>\n",
       "      <td>0</td>\n",
       "      <td>Trophy Kids</td>\n",
       "      <td>NaN</td>\n",
       "      <td>NaN</td>\n",
       "      <td>Chris Bell</td>\n",
       "      <td>NaN</td>\n",
       "      <td>...</td>\n",
       "      <td>From the director of Bigger Stronger Faster co...</td>\n",
       "      <td>107</td>\n",
       "      <td>Documentary</td>\n",
       "      <td>NaN</td>\n",
       "      <td>12/4/13</td>\n",
       "      <td>10</td>\n",
       "      <td>7.8</td>\n",
       "      <td>2013</td>\n",
       "      <td>0.000000e+00</td>\n",
       "      <td>0.000000e+00</td>\n",
       "    </tr>\n",
       "    <tr>\n",
       "      <th>8995</th>\n",
       "      <td>944</td>\n",
       "      <td>tt0122151</td>\n",
       "      <td>1.206274</td>\n",
       "      <td>140000000</td>\n",
       "      <td>285444603</td>\n",
       "      <td>Lethal Weapon 4</td>\n",
       "      <td>Mel Gibson|Danny Glover|Joe Pesci|Rene Russo|J...</td>\n",
       "      <td>NaN</td>\n",
       "      <td>Richard Donner</td>\n",
       "      <td>The faces you love. The action you expect.</td>\n",
       "      <td>...</td>\n",
       "      <td>In the combustible action franchise's final in...</td>\n",
       "      <td>127</td>\n",
       "      <td>Action|Adventure|Comedy|Crime|Drama</td>\n",
       "      <td>Silver Pictures|Donner/Shuler-Donner Productio...</td>\n",
       "      <td>7/10/98</td>\n",
       "      <td>438</td>\n",
       "      <td>6.1</td>\n",
       "      <td>1998</td>\n",
       "      <td>1.872774e+08</td>\n",
       "      <td>3.818380e+08</td>\n",
       "    </tr>\n",
       "    <tr>\n",
       "      <th>1376</th>\n",
       "      <td>26517</td>\n",
       "      <td>tt0077914</td>\n",
       "      <td>0.113714</td>\n",
       "      <td>0</td>\n",
       "      <td>0</td>\n",
       "      <td>Martin</td>\n",
       "      <td>John Amplas|Lincoln Maazel|Christine Forrest|E...</td>\n",
       "      <td>NaN</td>\n",
       "      <td>George A. Romero</td>\n",
       "      <td>He could be the boy next door...</td>\n",
       "      <td>...</td>\n",
       "      <td>Martin (John Amplas) sedates women with a syri...</td>\n",
       "      <td>95</td>\n",
       "      <td>Horror</td>\n",
       "      <td>Laurel Entertainment Inc.</td>\n",
       "      <td>5/23/77</td>\n",
       "      <td>17</td>\n",
       "      <td>6.3</td>\n",
       "      <td>1977</td>\n",
       "      <td>0.000000e+00</td>\n",
       "      <td>0.000000e+00</td>\n",
       "    </tr>\n",
       "  </tbody>\n",
       "</table>\n",
       "<p>5 rows × 21 columns</p>\n",
       "</div>"
      ],
      "text/plain": [
       "          id    imdb_id  popularity     budget    revenue  \\\n",
       "4296   17809  tt0110200    0.310592          0    1907743   \n",
       "1019  253849  tt1418754    0.304992          0          0   \n",
       "6078  376823  tt3231100    0.002647          0          0   \n",
       "8995     944  tt0122151    1.206274  140000000  285444603   \n",
       "1376   26517  tt0077914    0.113714          0          0   \n",
       "\n",
       "           original_title                                               cast  \\\n",
       "4296   Jing wu ying xiong  Jet Li|Shinobu Nakayama|Chin Siu-Ho|Paul Chun ...   \n",
       "1019  John Doe: Vigilante  Jamie Bamber|Lachy Hulme|Paul O'Brien|Sam Pars...   \n",
       "6078          Trophy Kids                                                NaN   \n",
       "8995      Lethal Weapon 4  Mel Gibson|Danny Glover|Joe Pesci|Rene Russo|J...   \n",
       "1376               Martin  John Amplas|Lincoln Maazel|Christine Forrest|E...   \n",
       "\n",
       "                              homepage          director  \\\n",
       "4296                               NaN       Gordon Chan   \n",
       "1019  http://johndoevigilantefilm.com/       Kelly Dolen   \n",
       "6078                               NaN        Chris Bell   \n",
       "8995                               NaN    Richard Donner   \n",
       "1376                               NaN  George A. Romero   \n",
       "\n",
       "                                                tagline  ...  \\\n",
       "4296  To avenge his masters death, He'll fight like ...  ...   \n",
       "1019  Hero or Villain? Justice or Vengeance? You Dec...  ...   \n",
       "6078                                                NaN  ...   \n",
       "8995         The faces you love. The action you expect.  ...   \n",
       "1376                   He could be the boy next door...  ...   \n",
       "\n",
       "                                               overview runtime  \\\n",
       "4296  Chen Zhen, a Chinese engineering student in Ky...     103   \n",
       "1019  Jamie Bamber portrays John Doe â€“ a man accus...      93   \n",
       "6078  From the director of Bigger Stronger Faster co...     107   \n",
       "8995  In the combustible action franchise's final in...     127   \n",
       "1376  Martin (John Amplas) sedates women with a syri...      95   \n",
       "\n",
       "                                   genres  \\\n",
       "4296                               Action   \n",
       "1019                       Thriller|Crime   \n",
       "6078                          Documentary   \n",
       "8995  Action|Adventure|Comedy|Crime|Drama   \n",
       "1376                               Horror   \n",
       "\n",
       "                                   production_companies release_date  \\\n",
       "4296                                Eastern Productions     12/22/94   \n",
       "1019         Screen Corporation|Rapidfire Entertainment      3/21/14   \n",
       "6078                                                NaN      12/4/13   \n",
       "8995  Silver Pictures|Donner/Shuler-Donner Productio...      7/10/98   \n",
       "1376                          Laurel Entertainment Inc.      5/23/77   \n",
       "\n",
       "     vote_count  vote_average  release_year    budget_adj   revenue_adj  \n",
       "4296         53           7.5          1994  0.000000e+00  2.806503e+06  \n",
       "1019         32           6.2          2014  0.000000e+00  0.000000e+00  \n",
       "6078         10           7.8          2013  0.000000e+00  0.000000e+00  \n",
       "8995        438           6.1          1998  1.872774e+08  3.818380e+08  \n",
       "1376         17           6.3          1977  0.000000e+00  0.000000e+00  \n",
       "\n",
       "[5 rows x 21 columns]"
      ]
     },
     "execution_count": 106,
     "metadata": {},
     "output_type": "execute_result"
    }
   ],
   "source": [
    "df_tmdb.sample(5)"
   ]
  },
  {
   "cell_type": "code",
   "execution_count": 107,
   "metadata": {},
   "outputs": [
    {
     "data": {
      "text/plain": [
       "(10866, 21)"
      ]
     },
     "execution_count": 107,
     "metadata": {},
     "output_type": "execute_result"
    }
   ],
   "source": [
    "df_tmdb.shape"
   ]
  },
  {
   "cell_type": "code",
   "execution_count": 108,
   "metadata": {
    "scrolled": false
   },
   "outputs": [
    {
     "name": "stdout",
     "output_type": "stream",
     "text": [
      "<class 'pandas.core.frame.DataFrame'>\n",
      "RangeIndex: 10866 entries, 0 to 10865\n",
      "Data columns (total 21 columns):\n",
      " #   Column                Non-Null Count  Dtype  \n",
      "---  ------                --------------  -----  \n",
      " 0   id                    10866 non-null  int64  \n",
      " 1   imdb_id               10856 non-null  object \n",
      " 2   popularity            10866 non-null  float64\n",
      " 3   budget                10866 non-null  int64  \n",
      " 4   revenue               10866 non-null  int64  \n",
      " 5   original_title        10866 non-null  object \n",
      " 6   cast                  10790 non-null  object \n",
      " 7   homepage              2936 non-null   object \n",
      " 8   director              10822 non-null  object \n",
      " 9   tagline               8042 non-null   object \n",
      " 10  keywords              9373 non-null   object \n",
      " 11  overview              10862 non-null  object \n",
      " 12  runtime               10866 non-null  int64  \n",
      " 13  genres                10843 non-null  object \n",
      " 14  production_companies  9836 non-null   object \n",
      " 15  release_date          10866 non-null  object \n",
      " 16  vote_count            10866 non-null  int64  \n",
      " 17  vote_average          10866 non-null  float64\n",
      " 18  release_year          10866 non-null  int64  \n",
      " 19  budget_adj            10866 non-null  float64\n",
      " 20  revenue_adj           10866 non-null  float64\n",
      "dtypes: float64(4), int64(6), object(11)\n",
      "memory usage: 1.7+ MB\n"
     ]
    }
   ],
   "source": [
    "df_tmdb.info()"
   ]
  },
  {
   "cell_type": "code",
   "execution_count": 109,
   "metadata": {},
   "outputs": [
    {
     "data": {
      "text/html": [
       "<div>\n",
       "<style scoped>\n",
       "    .dataframe tbody tr th:only-of-type {\n",
       "        vertical-align: middle;\n",
       "    }\n",
       "\n",
       "    .dataframe tbody tr th {\n",
       "        vertical-align: top;\n",
       "    }\n",
       "\n",
       "    .dataframe thead th {\n",
       "        text-align: right;\n",
       "    }\n",
       "</style>\n",
       "<table border=\"1\" class=\"dataframe\">\n",
       "  <thead>\n",
       "    <tr style=\"text-align: right;\">\n",
       "      <th></th>\n",
       "      <th>id</th>\n",
       "      <th>popularity</th>\n",
       "      <th>budget</th>\n",
       "      <th>revenue</th>\n",
       "      <th>runtime</th>\n",
       "      <th>vote_count</th>\n",
       "      <th>vote_average</th>\n",
       "      <th>release_year</th>\n",
       "      <th>budget_adj</th>\n",
       "      <th>revenue_adj</th>\n",
       "    </tr>\n",
       "  </thead>\n",
       "  <tbody>\n",
       "    <tr>\n",
       "      <th>count</th>\n",
       "      <td>10866.000000</td>\n",
       "      <td>10866.000000</td>\n",
       "      <td>1.086600e+04</td>\n",
       "      <td>1.086600e+04</td>\n",
       "      <td>10866.000000</td>\n",
       "      <td>10866.000000</td>\n",
       "      <td>10866.000000</td>\n",
       "      <td>10866.000000</td>\n",
       "      <td>1.086600e+04</td>\n",
       "      <td>1.086600e+04</td>\n",
       "    </tr>\n",
       "    <tr>\n",
       "      <th>mean</th>\n",
       "      <td>66064.177434</td>\n",
       "      <td>0.646441</td>\n",
       "      <td>1.462570e+07</td>\n",
       "      <td>3.982332e+07</td>\n",
       "      <td>102.070863</td>\n",
       "      <td>217.389748</td>\n",
       "      <td>5.974922</td>\n",
       "      <td>2001.322658</td>\n",
       "      <td>1.755104e+07</td>\n",
       "      <td>5.136436e+07</td>\n",
       "    </tr>\n",
       "    <tr>\n",
       "      <th>std</th>\n",
       "      <td>92130.136561</td>\n",
       "      <td>1.000185</td>\n",
       "      <td>3.091321e+07</td>\n",
       "      <td>1.170035e+08</td>\n",
       "      <td>31.381405</td>\n",
       "      <td>575.619058</td>\n",
       "      <td>0.935142</td>\n",
       "      <td>12.812941</td>\n",
       "      <td>3.430616e+07</td>\n",
       "      <td>1.446325e+08</td>\n",
       "    </tr>\n",
       "    <tr>\n",
       "      <th>min</th>\n",
       "      <td>5.000000</td>\n",
       "      <td>0.000065</td>\n",
       "      <td>0.000000e+00</td>\n",
       "      <td>0.000000e+00</td>\n",
       "      <td>0.000000</td>\n",
       "      <td>10.000000</td>\n",
       "      <td>1.500000</td>\n",
       "      <td>1960.000000</td>\n",
       "      <td>0.000000e+00</td>\n",
       "      <td>0.000000e+00</td>\n",
       "    </tr>\n",
       "    <tr>\n",
       "      <th>25%</th>\n",
       "      <td>10596.250000</td>\n",
       "      <td>0.207583</td>\n",
       "      <td>0.000000e+00</td>\n",
       "      <td>0.000000e+00</td>\n",
       "      <td>90.000000</td>\n",
       "      <td>17.000000</td>\n",
       "      <td>5.400000</td>\n",
       "      <td>1995.000000</td>\n",
       "      <td>0.000000e+00</td>\n",
       "      <td>0.000000e+00</td>\n",
       "    </tr>\n",
       "    <tr>\n",
       "      <th>50%</th>\n",
       "      <td>20669.000000</td>\n",
       "      <td>0.383856</td>\n",
       "      <td>0.000000e+00</td>\n",
       "      <td>0.000000e+00</td>\n",
       "      <td>99.000000</td>\n",
       "      <td>38.000000</td>\n",
       "      <td>6.000000</td>\n",
       "      <td>2006.000000</td>\n",
       "      <td>0.000000e+00</td>\n",
       "      <td>0.000000e+00</td>\n",
       "    </tr>\n",
       "    <tr>\n",
       "      <th>75%</th>\n",
       "      <td>75610.000000</td>\n",
       "      <td>0.713817</td>\n",
       "      <td>1.500000e+07</td>\n",
       "      <td>2.400000e+07</td>\n",
       "      <td>111.000000</td>\n",
       "      <td>145.750000</td>\n",
       "      <td>6.600000</td>\n",
       "      <td>2011.000000</td>\n",
       "      <td>2.085325e+07</td>\n",
       "      <td>3.369710e+07</td>\n",
       "    </tr>\n",
       "    <tr>\n",
       "      <th>max</th>\n",
       "      <td>417859.000000</td>\n",
       "      <td>32.985763</td>\n",
       "      <td>4.250000e+08</td>\n",
       "      <td>2.781506e+09</td>\n",
       "      <td>900.000000</td>\n",
       "      <td>9767.000000</td>\n",
       "      <td>9.200000</td>\n",
       "      <td>2015.000000</td>\n",
       "      <td>4.250000e+08</td>\n",
       "      <td>2.827124e+09</td>\n",
       "    </tr>\n",
       "  </tbody>\n",
       "</table>\n",
       "</div>"
      ],
      "text/plain": [
       "                  id    popularity        budget       revenue       runtime  \\\n",
       "count   10866.000000  10866.000000  1.086600e+04  1.086600e+04  10866.000000   \n",
       "mean    66064.177434      0.646441  1.462570e+07  3.982332e+07    102.070863   \n",
       "std     92130.136561      1.000185  3.091321e+07  1.170035e+08     31.381405   \n",
       "min         5.000000      0.000065  0.000000e+00  0.000000e+00      0.000000   \n",
       "25%     10596.250000      0.207583  0.000000e+00  0.000000e+00     90.000000   \n",
       "50%     20669.000000      0.383856  0.000000e+00  0.000000e+00     99.000000   \n",
       "75%     75610.000000      0.713817  1.500000e+07  2.400000e+07    111.000000   \n",
       "max    417859.000000     32.985763  4.250000e+08  2.781506e+09    900.000000   \n",
       "\n",
       "         vote_count  vote_average  release_year    budget_adj   revenue_adj  \n",
       "count  10866.000000  10866.000000  10866.000000  1.086600e+04  1.086600e+04  \n",
       "mean     217.389748      5.974922   2001.322658  1.755104e+07  5.136436e+07  \n",
       "std      575.619058      0.935142     12.812941  3.430616e+07  1.446325e+08  \n",
       "min       10.000000      1.500000   1960.000000  0.000000e+00  0.000000e+00  \n",
       "25%       17.000000      5.400000   1995.000000  0.000000e+00  0.000000e+00  \n",
       "50%       38.000000      6.000000   2006.000000  0.000000e+00  0.000000e+00  \n",
       "75%      145.750000      6.600000   2011.000000  2.085325e+07  3.369710e+07  \n",
       "max     9767.000000      9.200000   2015.000000  4.250000e+08  2.827124e+09  "
      ]
     },
     "execution_count": 109,
     "metadata": {},
     "output_type": "execute_result"
    }
   ],
   "source": [
    "df_tmdb.describe()"
   ]
  },
  {
   "cell_type": "markdown",
   "metadata": {},
   "source": [
    "\n",
    "### Data Cleaning\n",
    "> **Tip**: Make sure that you keep your reader informed on the steps that you are taking in your investigation. Follow every code cell, or every set of related code cells, with a markdown cell to describe to the reader what was found in the preceding cell(s). Try to make it so that the reader can then understand what they will be seeing in the following cell(s).\n",
    " "
   ]
  },
  {
   "cell_type": "markdown",
   "metadata": {
    "collapsed": true
   },
   "source": [
    "#### Missing Values"
   ]
  },
  {
   "cell_type": "code",
   "execution_count": 110,
   "metadata": {},
   "outputs": [
    {
     "data": {
      "text/plain": [
       "id                         0\n",
       "imdb_id                   10\n",
       "popularity                 0\n",
       "budget                     0\n",
       "revenue                    0\n",
       "original_title             0\n",
       "cast                      76\n",
       "homepage                7930\n",
       "director                  44\n",
       "tagline                 2824\n",
       "keywords                1493\n",
       "overview                   4\n",
       "runtime                    0\n",
       "genres                    23\n",
       "production_companies    1030\n",
       "release_date               0\n",
       "vote_count                 0\n",
       "vote_average               0\n",
       "release_year               0\n",
       "budget_adj                 0\n",
       "revenue_adj                0\n",
       "dtype: int64"
      ]
     },
     "execution_count": 110,
     "metadata": {},
     "output_type": "execute_result"
    }
   ],
   "source": [
    "df_tmdb.isna().sum()"
   ]
  },
  {
   "cell_type": "code",
   "execution_count": 111,
   "metadata": {},
   "outputs": [],
   "source": [
    "df_tmdb.drop(labels=[\"id\",\"imdb_id\",\"homepage\",\"tagline\",\"keywords\",\"overview\"],axis=1,inplace=True)"
   ]
  },
  {
   "cell_type": "code",
   "execution_count": 112,
   "metadata": {},
   "outputs": [],
   "source": [
    "df_tmdb.dropna( subset=['cast','director','genres',\"production_companies\"],axis=0 ,inplace=True)"
   ]
  },
  {
   "cell_type": "markdown",
   "metadata": {},
   "source": [
    "#### Duplicated Values"
   ]
  },
  {
   "cell_type": "code",
   "execution_count": 113,
   "metadata": {},
   "outputs": [
    {
     "data": {
      "text/plain": [
       "1"
      ]
     },
     "execution_count": 113,
     "metadata": {},
     "output_type": "execute_result"
    }
   ],
   "source": [
    "df_tmdb.duplicated().sum()"
   ]
  },
  {
   "cell_type": "code",
   "execution_count": 114,
   "metadata": {},
   "outputs": [],
   "source": [
    "df_tmdb.drop_duplicates(inplace=True)"
   ]
  },
  {
   "cell_type": "code",
   "execution_count": 115,
   "metadata": {
    "scrolled": false
   },
   "outputs": [
    {
     "name": "stdout",
     "output_type": "stream",
     "text": [
      "<class 'pandas.core.frame.DataFrame'>\n",
      "Int64Index: 9772 entries, 0 to 10865\n",
      "Data columns (total 15 columns):\n",
      " #   Column                Non-Null Count  Dtype  \n",
      "---  ------                --------------  -----  \n",
      " 0   popularity            9772 non-null   float64\n",
      " 1   budget                9772 non-null   int64  \n",
      " 2   revenue               9772 non-null   int64  \n",
      " 3   original_title        9772 non-null   object \n",
      " 4   cast                  9772 non-null   object \n",
      " 5   director              9772 non-null   object \n",
      " 6   runtime               9772 non-null   int64  \n",
      " 7   genres                9772 non-null   object \n",
      " 8   production_companies  9772 non-null   object \n",
      " 9   release_date          9772 non-null   object \n",
      " 10  vote_count            9772 non-null   int64  \n",
      " 11  vote_average          9772 non-null   float64\n",
      " 12  release_year          9772 non-null   int64  \n",
      " 13  budget_adj            9772 non-null   float64\n",
      " 14  revenue_adj           9772 non-null   float64\n",
      "dtypes: float64(4), int64(5), object(6)\n",
      "memory usage: 1.2+ MB\n"
     ]
    }
   ],
   "source": [
    "df_tmdb.info()"
   ]
  },
  {
   "cell_type": "markdown",
   "metadata": {},
   "source": [
    "### outliers\n",
    "#### this data is not completed and accurated, So we are dealing with the zeros value like outlies"
   ]
  },
  {
   "cell_type": "code",
   "execution_count": 116,
   "metadata": {},
   "outputs": [
    {
     "data": {
      "text/plain": [
       "(5022, 15)"
      ]
     },
     "execution_count": 116,
     "metadata": {},
     "output_type": "execute_result"
    }
   ],
   "source": [
    "df_tmdb[df_tmdb.revenue == 0].shape "
   ]
  },
  {
   "cell_type": "code",
   "execution_count": 117,
   "metadata": {},
   "outputs": [],
   "source": [
    "new_df_tmdb = df_tmdb[(df_tmdb['revenue'] > 1000) & (df_tmdb['budget'] > 1000)]"
   ]
  },
  {
   "cell_type": "code",
   "execution_count": 118,
   "metadata": {},
   "outputs": [
    {
     "data": {
      "text/plain": [
       "(3772, 15)"
      ]
     },
     "execution_count": 118,
     "metadata": {},
     "output_type": "execute_result"
    }
   ],
   "source": [
    "new_df_tmdb.shape"
   ]
  },
  {
   "cell_type": "markdown",
   "metadata": {},
   "source": [
    "### Spliting  genres columns and take the index 0 "
   ]
  },
  {
   "cell_type": "code",
   "execution_count": null,
   "metadata": {},
   "outputs": [],
   "source": [
    "new_df_tmdb[\"zero_genres\"] = new_df_tmdb.genres.str.split(\"|\").str.get(0)"
   ]
  },
  {
   "cell_type": "markdown",
   "metadata": {},
   "source": [
    "#### Null Values"
   ]
  },
  {
   "cell_type": "code",
   "execution_count": 120,
   "metadata": {},
   "outputs": [
    {
     "data": {
      "text/plain": [
       "popularity              0\n",
       "budget                  0\n",
       "revenue                 0\n",
       "original_title          0\n",
       "cast                    0\n",
       "director                0\n",
       "runtime                 0\n",
       "genres                  0\n",
       "production_companies    0\n",
       "release_date            0\n",
       "vote_count              0\n",
       "vote_average            0\n",
       "release_year            0\n",
       "budget_adj              0\n",
       "revenue_adj             0\n",
       "zero_genres             0\n",
       "dtype: int64"
      ]
     },
     "execution_count": 120,
     "metadata": {},
     "output_type": "execute_result"
    }
   ],
   "source": [
    "new_df_tmdb.isna().sum()"
   ]
  },
  {
   "cell_type": "markdown",
   "metadata": {},
   "source": [
    "### Functions used for ploting"
   ]
  },
  {
   "cell_type": "code",
   "execution_count": 121,
   "metadata": {},
   "outputs": [],
   "source": [
    "def pie_plot(data, title):\n",
    "    plt.figure(figsize = (18,15))\n",
    "    plt.pie(data = data, x= data.zero_genres.value_counts(),labels=label,autopct='%1.1f%%');\n",
    "    plt.legend(loc= \"upper left\");\n",
    "    plt.title(\"percentage in a zero_genres column for 2011\");\n",
    "    plt.savefig(f\"{title}.png\",dpi=1000)\n",
    "    \n",
    "def bar_plot(t_xlablel,t_ylabel,title,c):\n",
    "    \"\"\"\n",
    "    Parametar:\n",
    "        t_xlabel: string >> title of x axis.\n",
    "        y_ylabel: string >> title of y axis.\n",
    "           title: string >> title of bar chart plot.\n",
    "               c: string >> color of barchart.\n",
    "    \"\"\"\n",
    "    plt.figure(figsize = (18,15))\n",
    "    plt.bar(locations,  height,tick_label=label,color=c);\n",
    "    plt.title(title);\n",
    "    plt.xlabel(t_xlablel,fontdict={\"fontsize\":18})\n",
    "    plt.ylabel(t_ylabel,fontdict={\"fontsize\":18})\n",
    "    plt.savefig(f\"{title}.png\",dpi=1000)"
   ]
  },
  {
   "cell_type": "code",
   "execution_count": null,
   "metadata": {},
   "outputs": [],
   "source": []
  },
  {
   "cell_type": "markdown",
   "metadata": {},
   "source": [
    "<a id='eda'></a>\n",
    "## Exploratory Data Analysis\n",
    "\n",
    "> **Tip**: Now that you've trimmed and cleaned your data, you're ready to move on to exploration. **Compute statistics** and **create visualizations** with the goal of addressing the research questions that you posed in the Introduction section. You should compute the relevant statistics throughout the analysis when an inference is made about the data. Note that at least two or more kinds of plots should be created as part of the exploration, and you must  compare and show trends in the varied visualizations. \n",
    "\n",
    "\n",
    "\n",
    "> **Tip**: - Investigate the stated question(s) from multiple angles. It is recommended that you be systematic with your approach. Look at one variable at a time, and then follow it up by looking at relationships between variables. You should explore at least three variables in relation to the primary question. This can be an exploratory relationship between three variables of interest, or looking at how two independent variables relate to a single dependent variable of interest. Lastly, you  should perform both single-variable (1d) and multiple-variable (2d) explorations.\n",
    " \n",
    " \n",
    " \n",
    "> i wanna konw top 20 to help decision makers which movie spend your mony"
   ]
  },
  {
   "cell_type": "markdown",
   "metadata": {},
   "source": [
    "###  What are the top 20 revenue movies?\n",
    "<a id='q1'></a>"
   ]
  },
  {
   "cell_type": "code",
   "execution_count": 122,
   "metadata": {},
   "outputs": [
    {
     "data": {
      "text/plain": [
       "original_title\n",
       "Avatar                                           2781505847\n",
       "Star Wars: The Force Awakens                     2068178225\n",
       "Titanic                                          1845034188\n",
       "The Avengers                                     1519557910\n",
       "Jurassic World                                   1513528810\n",
       "Furious 7                                        1506249360\n",
       "Avengers: Age of Ultron                          1405035767\n",
       "Harry Potter and the Deathly Hallows: Part 2     1327817822\n",
       "Frozen                                           1274219009\n",
       "Iron Man 3                                       1215439994\n",
       "Minions                                          1156730962\n",
       "Transformers: Dark of the Moon                   1123746996\n",
       "The Lord of the Rings: The Return of the King    1118888979\n",
       "Skyfall                                          1108561013\n",
       "The Net                                          1106279658\n",
       "The Dark Knight Rises                            1081041287\n",
       "Pirates of the Caribbean: Dead Man's Chest       1065659812\n",
       "Toy Story 3                                      1063171911\n",
       "Alice in Wonderland                              1025467110\n",
       "Pirates of the Caribbean: On Stranger Tides      1021683000\n",
       "Name: revenue, dtype: int64"
      ]
     },
     "execution_count": 122,
     "metadata": {},
     "output_type": "execute_result"
    }
   ],
   "source": [
    "new_df_tmdb.groupby(\"original_title\").max()[\"revenue\"].nlargest(20)"
   ]
  },
  {
   "cell_type": "markdown",
   "metadata": {},
   "source": [
    ">**Conclusion**: After the examination, I found that the films with the highest revenues are adventure and action films, such as (**Avatar,starwars...**)"
   ]
  },
  {
   "cell_type": "markdown",
   "metadata": {},
   "source": [
    "> i wanna know Is there a relationship between low budget films and high revenues?"
   ]
  },
  {
   "cell_type": "markdown",
   "metadata": {},
   "source": [
    "###    What are the top 20 budget movies?\n",
    "<a id='q2'></a>"
   ]
  },
  {
   "cell_type": "code",
   "execution_count": 123,
   "metadata": {},
   "outputs": [
    {
     "data": {
      "text/plain": [
       "original_title\n",
       "The Warrior's Way                               425000000\n",
       "Pirates of the Caribbean: On Stranger Tides     380000000\n",
       "Pirates of the Caribbean: At World's End        300000000\n",
       "Avengers: Age of Ultron                         280000000\n",
       "Superman Returns                                270000000\n",
       "John Carter                                     260000000\n",
       "Tangled                                         260000000\n",
       "Spider-Man 3                                    258000000\n",
       "The Lone Ranger                                 255000000\n",
       "Harry Potter and the Deathly Hallows: Part 1    250000000\n",
       "Harry Potter and the Half-Blood Prince          250000000\n",
       "The Dark Knight Rises                           250000000\n",
       "The Hobbit: An Unexpected Journey               250000000\n",
       "The Hobbit: The Battle of the Five Armies       250000000\n",
       "The Hobbit: The Desolation of Smaug             250000000\n",
       "X-Men: Days of Future Past                      250000000\n",
       "Spectre                                         245000000\n",
       "Avatar                                          237000000\n",
       "Man of Steel                                    225000000\n",
       "Men in Black 3                                  225000000\n",
       "Name: budget, dtype: int64"
      ]
     },
     "execution_count": 123,
     "metadata": {},
     "output_type": "execute_result"
    }
   ],
   "source": [
    "new_df_tmdb.groupby(\"original_title\").max()[\"budget\"].nlargest(20)"
   ]
  },
  {
   "cell_type": "markdown",
   "metadata": {},
   "source": [
    ">**Conclusion**:It was found that it is not a prerequisite for the budget to be low, and that the revenues from it are the highest among all films, and an example of this is Filak **“ِAvatar”** who has the highest revenues, but his budget is not low compared to the rest of the budgets of films"
   ]
  },
  {
   "cell_type": "markdown",
   "metadata": {},
   "source": [
    "> The relationship between lack of popularity and genre of film"
   ]
  },
  {
   "cell_type": "markdown",
   "metadata": {},
   "source": [
    "###  What are the lowest 10 popular movies?\n",
    "<a id='q2'></a>"
   ]
  },
  {
   "cell_type": "code",
   "execution_count": 124,
   "metadata": {
    "scrolled": true
   },
   "outputs": [
    {
     "data": {
      "text/html": [
       "<div>\n",
       "<style scoped>\n",
       "    .dataframe tbody tr th:only-of-type {\n",
       "        vertical-align: middle;\n",
       "    }\n",
       "\n",
       "    .dataframe tbody tr th {\n",
       "        vertical-align: top;\n",
       "    }\n",
       "\n",
       "    .dataframe thead th {\n",
       "        text-align: right;\n",
       "    }\n",
       "</style>\n",
       "<table border=\"1\" class=\"dataframe\">\n",
       "  <thead>\n",
       "    <tr style=\"text-align: right;\">\n",
       "      <th></th>\n",
       "      <th>original_title</th>\n",
       "      <th>zero_genres</th>\n",
       "      <th>popularity</th>\n",
       "    </tr>\n",
       "  </thead>\n",
       "  <tbody>\n",
       "    <tr>\n",
       "      <th>3749</th>\n",
       "      <td>Ð¡Ñ‚Ð°Ð»Ð¸Ð½Ð³Ñ€Ð°Ð´</td>\n",
       "      <td>War</td>\n",
       "      <td>0.010335</td>\n",
       "    </tr>\n",
       "    <tr>\n",
       "      <th>2496</th>\n",
       "      <td>Spacehunter: Adventures in the Forbidden Zone</td>\n",
       "      <td>Adventure</td>\n",
       "      <td>0.015727</td>\n",
       "    </tr>\n",
       "    <tr>\n",
       "      <th>3008</th>\n",
       "      <td>The In Crowd</td>\n",
       "      <td>Thriller</td>\n",
       "      <td>0.015997</td>\n",
       "    </tr>\n",
       "    <tr>\n",
       "      <th>2725</th>\n",
       "      <td>The Bad News Bears</td>\n",
       "      <td>Comedy</td>\n",
       "      <td>0.017498</td>\n",
       "    </tr>\n",
       "    <tr>\n",
       "      <th>3041</th>\n",
       "      <td>The Kid Stays in the Picture</td>\n",
       "      <td>Documentary</td>\n",
       "      <td>0.017708</td>\n",
       "    </tr>\n",
       "    <tr>\n",
       "      <th>957</th>\n",
       "      <td>Expelled: No Intelligence Allowed</td>\n",
       "      <td>Documentary</td>\n",
       "      <td>0.021371</td>\n",
       "    </tr>\n",
       "    <tr>\n",
       "      <th>135</th>\n",
       "      <td>Action Replayy</td>\n",
       "      <td>Drama</td>\n",
       "      <td>0.028227</td>\n",
       "    </tr>\n",
       "    <tr>\n",
       "      <th>1203</th>\n",
       "      <td>Hanging Up</td>\n",
       "      <td>Comedy</td>\n",
       "      <td>0.031018</td>\n",
       "    </tr>\n",
       "    <tr>\n",
       "      <th>3018</th>\n",
       "      <td>The Internship</td>\n",
       "      <td>Comedy</td>\n",
       "      <td>0.040858</td>\n",
       "    </tr>\n",
       "    <tr>\n",
       "      <th>2502</th>\n",
       "      <td>Special</td>\n",
       "      <td>Drama</td>\n",
       "      <td>0.040915</td>\n",
       "    </tr>\n",
       "  </tbody>\n",
       "</table>\n",
       "</div>"
      ],
      "text/plain": [
       "                                     original_title  zero_genres  popularity\n",
       "3749                           Ð¡Ñ‚Ð°Ð»Ð¸Ð½Ð³Ñ€Ð°Ð´          War    0.010335\n",
       "2496  Spacehunter: Adventures in the Forbidden Zone    Adventure    0.015727\n",
       "3008                                   The In Crowd     Thriller    0.015997\n",
       "2725                             The Bad News Bears       Comedy    0.017498\n",
       "3041                   The Kid Stays in the Picture  Documentary    0.017708\n",
       "957               Expelled: No Intelligence Allowed  Documentary    0.021371\n",
       "135                                  Action Replayy        Drama    0.028227\n",
       "1203                                     Hanging Up       Comedy    0.031018\n",
       "3018                                 The Internship       Comedy    0.040858\n",
       "2502                                        Special        Drama    0.040915"
      ]
     },
     "execution_count": 124,
     "metadata": {},
     "output_type": "execute_result"
    }
   ],
   "source": [
    "values = new_df_tmdb.groupby([\"original_title\",\"zero_genres\"])[\"popularity\"].min().reset_index()\n",
    "values.sort_values(\"popularity\").head(10)"
   ]
  },
  {
   "cell_type": "markdown",
   "metadata": {},
   "source": [
    "> **Conclusion**: It seems that films with less popularity are comedies, dramas and documentaries"
   ]
  },
  {
   "cell_type": "markdown",
   "metadata": {},
   "source": [
    "> The relationship between the number of people's votes on films and the type of film"
   ]
  },
  {
   "cell_type": "markdown",
   "metadata": {},
   "source": [
    "###  What are the top 10 most voted movies by audience?\n",
    "<a id='q3'></a>"
   ]
  },
  {
   "cell_type": "code",
   "execution_count": 125,
   "metadata": {},
   "outputs": [
    {
     "data": {
      "text/html": [
       "<div>\n",
       "<style scoped>\n",
       "    .dataframe tbody tr th:only-of-type {\n",
       "        vertical-align: middle;\n",
       "    }\n",
       "\n",
       "    .dataframe tbody tr th {\n",
       "        vertical-align: top;\n",
       "    }\n",
       "\n",
       "    .dataframe thead th {\n",
       "        text-align: right;\n",
       "    }\n",
       "</style>\n",
       "<table border=\"1\" class=\"dataframe\">\n",
       "  <thead>\n",
       "    <tr style=\"text-align: right;\">\n",
       "      <th></th>\n",
       "      <th>original_title</th>\n",
       "      <th>zero_genres</th>\n",
       "      <th>vote_count</th>\n",
       "    </tr>\n",
       "  </thead>\n",
       "  <tbody>\n",
       "    <tr>\n",
       "      <th>1384</th>\n",
       "      <td>Inception</td>\n",
       "      <td>Action</td>\n",
       "      <td>9767</td>\n",
       "    </tr>\n",
       "    <tr>\n",
       "      <th>2717</th>\n",
       "      <td>The Avengers</td>\n",
       "      <td>Science Fiction</td>\n",
       "      <td>8903</td>\n",
       "    </tr>\n",
       "    <tr>\n",
       "      <th>282</th>\n",
       "      <td>Avatar</td>\n",
       "      <td>Action</td>\n",
       "      <td>8458</td>\n",
       "    </tr>\n",
       "    <tr>\n",
       "      <th>2831</th>\n",
       "      <td>The Dark Knight</td>\n",
       "      <td>Drama</td>\n",
       "      <td>8432</td>\n",
       "    </tr>\n",
       "    <tr>\n",
       "      <th>808</th>\n",
       "      <td>Django Unchained</td>\n",
       "      <td>Drama</td>\n",
       "      <td>7375</td>\n",
       "    </tr>\n",
       "    <tr>\n",
       "      <th>2994</th>\n",
       "      <td>The Hunger Games</td>\n",
       "      <td>Science Fiction</td>\n",
       "      <td>7080</td>\n",
       "    </tr>\n",
       "    <tr>\n",
       "      <th>1419</th>\n",
       "      <td>Iron Man 3</td>\n",
       "      <td>Action</td>\n",
       "      <td>6882</td>\n",
       "    </tr>\n",
       "    <tr>\n",
       "      <th>2832</th>\n",
       "      <td>The Dark Knight Rises</td>\n",
       "      <td>Action</td>\n",
       "      <td>6723</td>\n",
       "    </tr>\n",
       "    <tr>\n",
       "      <th>1407</th>\n",
       "      <td>Interstellar</td>\n",
       "      <td>Adventure</td>\n",
       "      <td>6498</td>\n",
       "    </tr>\n",
       "    <tr>\n",
       "      <th>2981</th>\n",
       "      <td>The Hobbit: An Unexpected Journey</td>\n",
       "      <td>Adventure</td>\n",
       "      <td>6417</td>\n",
       "    </tr>\n",
       "  </tbody>\n",
       "</table>\n",
       "</div>"
      ],
      "text/plain": [
       "                         original_title      zero_genres  vote_count\n",
       "1384                          Inception           Action        9767\n",
       "2717                       The Avengers  Science Fiction        8903\n",
       "282                              Avatar           Action        8458\n",
       "2831                    The Dark Knight            Drama        8432\n",
       "808                    Django Unchained            Drama        7375\n",
       "2994                   The Hunger Games  Science Fiction        7080\n",
       "1419                         Iron Man 3           Action        6882\n",
       "2832              The Dark Knight Rises           Action        6723\n",
       "1407                       Interstellar        Adventure        6498\n",
       "2981  The Hobbit: An Unexpected Journey        Adventure        6417"
      ]
     },
     "execution_count": 125,
     "metadata": {},
     "output_type": "execute_result"
    }
   ],
   "source": [
    "values = new_df_tmdb.groupby([\"original_title\",\"zero_genres\"])[\"vote_count\"].max().reset_index()\n",
    "values.sort_values(\"vote_count\",ascending=False).head(10)"
   ]
  },
  {
   "cell_type": "markdown",
   "metadata": {},
   "source": [
    "> **Conclusion**: From the look, we conclude that the highest-rated films are action and adventure films"
   ]
  },
  {
   "cell_type": "markdown",
   "metadata": {},
   "source": [
    " > Genres VS vote_count"
   ]
  },
  {
   "cell_type": "markdown",
   "metadata": {},
   "source": [
    "###  What are the lowest 5 voted movies by audience?\n",
    "<a id='q4'></a>"
   ]
  },
  {
   "cell_type": "code",
   "execution_count": 126,
   "metadata": {},
   "outputs": [
    {
     "data": {
      "text/html": [
       "<div>\n",
       "<style scoped>\n",
       "    .dataframe tbody tr th:only-of-type {\n",
       "        vertical-align: middle;\n",
       "    }\n",
       "\n",
       "    .dataframe tbody tr th {\n",
       "        vertical-align: top;\n",
       "    }\n",
       "\n",
       "    .dataframe thead th {\n",
       "        text-align: right;\n",
       "    }\n",
       "</style>\n",
       "<table border=\"1\" class=\"dataframe\">\n",
       "  <thead>\n",
       "    <tr style=\"text-align: right;\">\n",
       "      <th></th>\n",
       "      <th>original_title</th>\n",
       "      <th>zero_genres</th>\n",
       "      <th>vote_count</th>\n",
       "    </tr>\n",
       "  </thead>\n",
       "  <tbody>\n",
       "    <tr>\n",
       "      <th>3041</th>\n",
       "      <td>The Kid Stays in the Picture</td>\n",
       "      <td>Documentary</td>\n",
       "      <td>10</td>\n",
       "    </tr>\n",
       "    <tr>\n",
       "      <th>1486</th>\n",
       "      <td>Julia</td>\n",
       "      <td>Drama</td>\n",
       "      <td>10</td>\n",
       "    </tr>\n",
       "    <tr>\n",
       "      <th>101</th>\n",
       "      <td>A Rage in Harlem</td>\n",
       "      <td>Crime</td>\n",
       "      <td>10</td>\n",
       "    </tr>\n",
       "    <tr>\n",
       "      <th>412</th>\n",
       "      <td>Black Nativity</td>\n",
       "      <td>Drama</td>\n",
       "      <td>10</td>\n",
       "    </tr>\n",
       "    <tr>\n",
       "      <th>556</th>\n",
       "      <td>Cats Don't Dance</td>\n",
       "      <td>Animation</td>\n",
       "      <td>10</td>\n",
       "    </tr>\n",
       "  </tbody>\n",
       "</table>\n",
       "</div>"
      ],
      "text/plain": [
       "                    original_title  zero_genres  vote_count\n",
       "3041  The Kid Stays in the Picture  Documentary          10\n",
       "1486                         Julia        Drama          10\n",
       "101               A Rage in Harlem        Crime          10\n",
       "412                 Black Nativity        Drama          10\n",
       "556               Cats Don't Dance    Animation          10"
      ]
     },
     "execution_count": 126,
     "metadata": {},
     "output_type": "execute_result"
    }
   ],
   "source": [
    "values = new_df_tmdb.groupby([\"original_title\",\"zero_genres\"])[\"vote_count\"].min().reset_index()\n",
    "values.sort_values(\"vote_count\").head(5)"
   ]
  },
  {
   "cell_type": "markdown",
   "metadata": {},
   "source": [
    ">**Conclusion**: The lowest vote movies are darma, documentary .. "
   ]
  },
  {
   "cell_type": "markdown",
   "metadata": {},
   "source": [
    "> the relasionship between release year and popularity"
   ]
  },
  {
   "cell_type": "markdown",
   "metadata": {},
   "source": [
    "###   What is the year for the top 10 most popular movies?"
   ]
  },
  {
   "cell_type": "code",
   "execution_count": 127,
   "metadata": {},
   "outputs": [
    {
     "data": {
      "text/html": [
       "<div>\n",
       "<style scoped>\n",
       "    .dataframe tbody tr th:only-of-type {\n",
       "        vertical-align: middle;\n",
       "    }\n",
       "\n",
       "    .dataframe tbody tr th {\n",
       "        vertical-align: top;\n",
       "    }\n",
       "\n",
       "    .dataframe thead th {\n",
       "        text-align: right;\n",
       "    }\n",
       "</style>\n",
       "<table border=\"1\" class=\"dataframe\">\n",
       "  <thead>\n",
       "    <tr style=\"text-align: right;\">\n",
       "      <th></th>\n",
       "      <th>original_title</th>\n",
       "      <th>release_year</th>\n",
       "      <th>popularity</th>\n",
       "    </tr>\n",
       "  </thead>\n",
       "  <tbody>\n",
       "    <tr>\n",
       "      <th>1508</th>\n",
       "      <td>Jurassic World</td>\n",
       "      <td>2015</td>\n",
       "      <td>32.985763</td>\n",
       "    </tr>\n",
       "    <tr>\n",
       "      <th>1696</th>\n",
       "      <td>Mad Max: Fury Road</td>\n",
       "      <td>2015</td>\n",
       "      <td>28.419936</td>\n",
       "    </tr>\n",
       "    <tr>\n",
       "      <th>1418</th>\n",
       "      <td>Interstellar</td>\n",
       "      <td>2014</td>\n",
       "      <td>24.949134</td>\n",
       "    </tr>\n",
       "    <tr>\n",
       "      <th>1190</th>\n",
       "      <td>Guardians of the Galaxy</td>\n",
       "      <td>2014</td>\n",
       "      <td>14.311205</td>\n",
       "    </tr>\n",
       "    <tr>\n",
       "      <th>1415</th>\n",
       "      <td>Insurgent</td>\n",
       "      <td>2015</td>\n",
       "      <td>13.112507</td>\n",
       "    </tr>\n",
       "    <tr>\n",
       "      <th>531</th>\n",
       "      <td>Captain America: The Winter Soldier</td>\n",
       "      <td>2014</td>\n",
       "      <td>12.971027</td>\n",
       "    </tr>\n",
       "    <tr>\n",
       "      <th>2552</th>\n",
       "      <td>Star Wars</td>\n",
       "      <td>1977</td>\n",
       "      <td>12.037933</td>\n",
       "    </tr>\n",
       "    <tr>\n",
       "      <th>1483</th>\n",
       "      <td>John Wick</td>\n",
       "      <td>2014</td>\n",
       "      <td>11.422751</td>\n",
       "    </tr>\n",
       "    <tr>\n",
       "      <th>2557</th>\n",
       "      <td>Star Wars: The Force Awakens</td>\n",
       "      <td>2015</td>\n",
       "      <td>11.173104</td>\n",
       "    </tr>\n",
       "    <tr>\n",
       "      <th>3014</th>\n",
       "      <td>The Hunger Games: Mockingjay - Part 1</td>\n",
       "      <td>2014</td>\n",
       "      <td>10.739009</td>\n",
       "    </tr>\n",
       "  </tbody>\n",
       "</table>\n",
       "</div>"
      ],
      "text/plain": [
       "                             original_title  release_year  popularity\n",
       "1508                         Jurassic World          2015   32.985763\n",
       "1696                     Mad Max: Fury Road          2015   28.419936\n",
       "1418                           Interstellar          2014   24.949134\n",
       "1190                Guardians of the Galaxy          2014   14.311205\n",
       "1415                              Insurgent          2015   13.112507\n",
       "531     Captain America: The Winter Soldier          2014   12.971027\n",
       "2552                              Star Wars          1977   12.037933\n",
       "1483                              John Wick          2014   11.422751\n",
       "2557           Star Wars: The Force Awakens          2015   11.173104\n",
       "3014  The Hunger Games: Mockingjay - Part 1          2014   10.739009"
      ]
     },
     "execution_count": 127,
     "metadata": {},
     "output_type": "execute_result"
    }
   ],
   "source": [
    "values = new_df_tmdb.groupby([\"original_title\",\"release_year\"])[\"popularity\"].max().reset_index()\n",
    "values.sort_values(\"popularity\",ascending=False).head(10)"
   ]
  },
  {
   "cell_type": "markdown",
   "metadata": {},
   "source": [
    ">**Conclution**:The audience tends to watch the newly released 2014 and 2015 films"
   ]
  },
  {
   "cell_type": "markdown",
   "metadata": {},
   "source": [
    "###  what is the smallest 10 movies in budget? \n",
    "<a id='q5'></a>"
   ]
  },
  {
   "cell_type": "code",
   "execution_count": 128,
   "metadata": {},
   "outputs": [
    {
     "data": {
      "text/plain": [
       "original_title\n",
       "Primer                      7000\n",
       "Weekend                     8000\n",
       "Eraserhead                 10000\n",
       "Pink Flamingos             12000\n",
       "Paranormal Activity        15000\n",
       "Bellflower                 17000\n",
       "The Blair Witch Project    25000\n",
       "Clerks                     27000\n",
       "Catfish                    30000\n",
       "Howl                       30000\n",
       "Name: budget, dtype: int64"
      ]
     },
     "execution_count": 128,
     "metadata": {},
     "output_type": "execute_result"
    }
   ],
   "source": [
    "new_df_tmdb.groupby(\"original_title\").min().nsmallest(10,[\"budget\"])[\"budget\"]"
   ]
  },
  {
   "cell_type": "markdown",
   "metadata": {},
   "source": [
    ".**Conclusion**Looks like low-budget films are struggling in revenue"
   ]
  },
  {
   "cell_type": "markdown",
   "metadata": {},
   "source": [
    "### what are the mean of the budget ?\n",
    "<a id='q6'></a>"
   ]
  },
  {
   "cell_type": "code",
   "execution_count": 129,
   "metadata": {},
   "outputs": [
    {
     "data": {
      "text/plain": [
       "37853400"
      ]
     },
     "execution_count": 129,
     "metadata": {},
     "output_type": "execute_result"
    }
   ],
   "source": [
    "round(new_df_tmdb.budget.mean())"
   ]
  },
  {
   "cell_type": "markdown",
   "metadata": {},
   "source": [
    ">**Conclusion**: The closer we get to the average, the higher the revenue"
   ]
  },
  {
   "cell_type": "markdown",
   "metadata": {},
   "source": [
    ">I want to know whether the production rate of a particular category of films has an impact on another category"
   ]
  },
  {
   "cell_type": "markdown",
   "metadata": {},
   "source": [
    "###  What is the percentage in a zero_genres column for 2011?\n",
    "<a id='q7'></a>"
   ]
  },
  {
   "cell_type": "code",
   "execution_count": 130,
   "metadata": {},
   "outputs": [
    {
     "data": {
      "image/png": "[encoded data removed]",
      "text/plain": [
       "<Figure size 1296x1080 with 1 Axes>"
      ]
     },
     "metadata": {},
     "output_type": "display_data"
    }
   ],
   "source": [
    "\n",
    "label = [\"Drama\" ,\"Comedy\",\"Action\",\"Adventure\",\"Thriller\",\"Horror\" , \"Crime\" ,\"Animation\",\"Documentary\",\"Fantasy\" ,\"Romance\",\n",
    "          \"Family\",\"History\",\"Music\",\"Mystery\",\"War\",\"Science Fiction\"]\n",
    "\n",
    "year_2011 = new_df_tmdb[new_df_tmdb.release_year == 2011]\n",
    "   \n",
    "pie_plot(year_2011,\"percentage in a zero_genres column for 2011\")"
   ]
  },
  {
   "cell_type": "markdown",
   "metadata": {},
   "source": [
    "###  What is the percentage in a zero_genres column for 2015?\n",
    "<a id='q8'></a>"
   ]
  },
  {
   "cell_type": "code",
   "execution_count": 131,
   "metadata": {},
   "outputs": [
    {
     "data": {
      "image/png": "[encoded data removed]",
      "text/plain": [
       "<Figure size 1296x1080 with 1 Axes>"
      ]
     },
     "metadata": {},
     "output_type": "display_data"
    }
   ],
   "source": [
    "label = [\"Drama\",\"Comedy\",\"Action\",\"Adventur\",\"Crime\",\"Thriller\",\"Horror\",\"Romance\",\"Science Fiction\",\n",
    "\"Fantasy\",\"Mystery\",\"Family\",\"History\",\"Animation\",\"Western\",\"War\"]\n",
    "\n",
    "year_2015 = new_df_tmdb[new_df_tmdb.release_year == 2015]\n",
    "pie_plot(year_2015,\"percentage in a zero_genres column for 2015\")"
   ]
  },
  {
   "cell_type": "markdown",
   "metadata": {},
   "source": [
    "\n",
    ">**Conclusion**: Although comedies and dramas of 2011 and 2015 represent the majority of production, but their revenues are much less than action and adventure films."
   ]
  },
  {
   "cell_type": "markdown",
   "metadata": {},
   "source": [
    "> Mean of Revenue VS Genres"
   ]
  },
  {
   "cell_type": "markdown",
   "metadata": {},
   "source": [
    "###  ًwhat is the revenue for each section in zero_genresb in 2011?\n",
    "<a id='q9'></a>"
   ]
  },
  {
   "cell_type": "code",
   "execution_count": 132,
   "metadata": {},
   "outputs": [],
   "source": [
    "height = year_2011.groupby(\"zero_genres\").revenue.mean().nlargest(20)\n"
   ]
  },
  {
   "cell_type": "code",
   "execution_count": 133,
   "metadata": {},
   "outputs": [
    {
     "data": {
      "image/png": "[encoded data removed]",
      "text/plain": [
       "<Figure size 1296x1080 with 1 Axes>"
      ]
     },
     "metadata": {},
     "output_type": "display_data"
    }
   ],
   "source": [
    "locations = np.arange(17)\n",
    "label = [\"Animation\",\"Adventure\",\"Romance\",\"Action\",\"Music\" ,\"Thriller\" ,\"Fantasy\",\"Comedy\",\"Family\",\n",
    "         \"History\",\"Horror\",\"Crime\",\"Drama\" , \"Documentary\",\"Mystery\",\"Science Fiction\",\"War\"]\n",
    "    \n",
    "bar_plot(\"Genres\",\"Revenue\",\"the revenue for each section in zero_genresb in 2011\",\"#FF80AA\")"
   ]
  },
  {
   "cell_type": "markdown",
   "metadata": {},
   "source": [
    ">**Conclusion**:It is clear from the bar chart that the films in 2011 with the highest revenues are animation, adventure, and action, and they often represent the majority of revenues."
   ]
  },
  {
   "cell_type": "markdown",
   "metadata": {},
   "source": [
    ">Budget VS Genres"
   ]
  },
  {
   "cell_type": "markdown",
   "metadata": {},
   "source": [
    "###  ًwhat is the budget for each section in zero_genresb in 2011?\n",
    "<a id='q10'></a>"
   ]
  },
  {
   "cell_type": "code",
   "execution_count": 134,
   "metadata": {},
   "outputs": [],
   "source": [
    "height = year_2011.groupby(\"zero_genres\").budget.mean().nlargest(20)\n"
   ]
  },
  {
   "cell_type": "code",
   "execution_count": 135,
   "metadata": {},
   "outputs": [
    {
     "data": {
      "image/png": "[encoded data removed]",
      "text/plain": [
       "<Figure size 1296x1080 with 1 Axes>"
      ]
     },
     "metadata": {},
     "output_type": "display_data"
    }
   ],
   "source": [
    "locations = np.arange(17)\n",
    "label = [\"Music\",\"Adventure\",\"Animation\",\"Action\",\"Romance\",\"Fantasy\",\"Thriller\",\"Comedy\",\"Crime\",\"Family\",\"War\",\"Drama\",\"Horror\",\"Documentary\",\"History\",\"Myster\",\"Science Fiction\"]\n",
    "\n",
    "bar_plot(\"Genres\",\"Budget\",\"the budget for each section in zero_genresb in 2011\",\"red\")"
   ]
  },
  {
   "cell_type": "markdown",
   "metadata": {},
   "source": [
    ">**Conclusion**:The budget of the film is not supposed to be low and the revenues high. If we look at the fee, we will find that the films with the most budget are the films that earn higher revenues, and the lower films are those that earn less revenue, often according to **2011**"
   ]
  },
  {
   "cell_type": "markdown",
   "metadata": {},
   "source": [
    ">This is just a confirmation question for the previous questions"
   ]
  },
  {
   "cell_type": "markdown",
   "metadata": {},
   "source": [
    "###  The five most popular films and their genre.\n",
    "<a id='q11'></a>"
   ]
  },
  {
   "cell_type": "code",
   "execution_count": 136,
   "metadata": {},
   "outputs": [
    {
     "data": {
      "text/html": [
       "<div>\n",
       "<style scoped>\n",
       "    .dataframe tbody tr th:only-of-type {\n",
       "        vertical-align: middle;\n",
       "    }\n",
       "\n",
       "    .dataframe tbody tr th {\n",
       "        vertical-align: top;\n",
       "    }\n",
       "\n",
       "    .dataframe thead th {\n",
       "        text-align: right;\n",
       "    }\n",
       "</style>\n",
       "<table border=\"1\" class=\"dataframe\">\n",
       "  <thead>\n",
       "    <tr style=\"text-align: right;\">\n",
       "      <th></th>\n",
       "      <th>original_title</th>\n",
       "      <th>zero_genres</th>\n",
       "      <th>popularity</th>\n",
       "    </tr>\n",
       "  </thead>\n",
       "  <tbody>\n",
       "    <tr>\n",
       "      <th>1497</th>\n",
       "      <td>Jurassic World</td>\n",
       "      <td>Action</td>\n",
       "      <td>32.985763</td>\n",
       "    </tr>\n",
       "    <tr>\n",
       "      <th>1685</th>\n",
       "      <td>Mad Max: Fury Road</td>\n",
       "      <td>Action</td>\n",
       "      <td>28.419936</td>\n",
       "    </tr>\n",
       "    <tr>\n",
       "      <th>1407</th>\n",
       "      <td>Interstellar</td>\n",
       "      <td>Adventure</td>\n",
       "      <td>24.949134</td>\n",
       "    </tr>\n",
       "    <tr>\n",
       "      <th>1181</th>\n",
       "      <td>Guardians of the Galaxy</td>\n",
       "      <td>Action</td>\n",
       "      <td>14.311205</td>\n",
       "    </tr>\n",
       "    <tr>\n",
       "      <th>1404</th>\n",
       "      <td>Insurgent</td>\n",
       "      <td>Adventure</td>\n",
       "      <td>13.112507</td>\n",
       "    </tr>\n",
       "  </tbody>\n",
       "</table>\n",
       "</div>"
      ],
      "text/plain": [
       "               original_title zero_genres  popularity\n",
       "1497           Jurassic World      Action   32.985763\n",
       "1685       Mad Max: Fury Road      Action   28.419936\n",
       "1407             Interstellar   Adventure   24.949134\n",
       "1181  Guardians of the Galaxy      Action   14.311205\n",
       "1404                Insurgent   Adventure   13.112507"
      ]
     },
     "execution_count": 136,
     "metadata": {},
     "output_type": "execute_result"
    }
   ],
   "source": [
    "values = new_df_tmdb.groupby([\"original_title\",\"zero_genres\"])[\"popularity\"].max().reset_index()\n",
    "height = values.sort_values(\"popularity\",ascending=False).head(5)\n",
    "height"
   ]
  },
  {
   "cell_type": "code",
   "execution_count": 137,
   "metadata": {},
   "outputs": [
    {
     "data": {
      "image/png": "[encoded data removed]",
      "text/plain": [
       "<Figure size 1296x1080 with 1 Axes>"
      ]
     },
     "metadata": {},
     "output_type": "display_data"
    }
   ],
   "source": [
    "height = height[\"popularity\"]\n",
    "locations = np.arange(5)\n",
    "label= [\"Jurassic World\",\"Mad Max:Fury Road\",\"Interstellar\",\"Guardians of the Galaxy\",\"Insurgent\"]\n",
    "\n",
    "bar_plot(\"Original Ttitle\",\"Popularity\",\"Original Ttitle VS Popularity\",\"#7FFFD4\")"
   ]
  },
  {
   "cell_type": "markdown",
   "metadata": {},
   "source": [
    ">**Conclusion**:You will find that, for example, the movie **“Interstellar”** is one of the most popular and of its kind **\"Adventure\"**"
   ]
  },
  {
   "cell_type": "markdown",
   "metadata": {},
   "source": [
    "## STORYTELLING\n",
    "\n",
    "\n",
    ">After examining the data related to IMDb, we will find that the main question is how to take advantage of spending money in order to get the highest revenue from the film and gain the largest audience base, and the film gets the highest popularity among the audience, and on this basis, some sub-question was raised in order to reach an answer this question\n",
    "\n",
    "### Quesions\n",
    "<ul>\n",
    "<li><a href=\"#q1\">What are the top 20 revenue movies?</a></li>\n",
    "<li><a href=\"#q2\">What are the top 20 budget movies?</a></li>\n",
    "<li><a href=\"#q3\">What are the top 10 most voted movies by audience?</a></li>\n",
    "<li><a href=\"#q4\">What are the lowest 5 voted movies by audience?</a></li>\n",
    "<li><a href=\"#q5\">what is the smallest 10 movies in budget?</a></li>\n",
    "<li><a href=\"#q6\">what are the mean of the budget ?</a></li>\n",
    "<li><a href=\"#q7\">What is the percentage in a zero_genres column for 2011?</a></li>\n",
    "<li><a href=\"#q8\">What is the percentage in a zero_genres column for 2015?</a></li>\n",
    "<li><a href=\"#q9\">what is the revenue for each section in zero_genresb in 2011?</a></li>\n",
    "<li><a href=\"#q10\">ًwhat is the budget for each section in zero_genresb in 2011?</a></li>\n",
    "<li><a href=\"#q11\">The five most popular films and their genre.</a></li>\n",
    "</ul>"
   ]
  },
  {
   "cell_type": "markdown",
   "metadata": {},
   "source": [
    "<a id='conclusions'></a>\n",
    "## Conclusions\n",
    ">After all, the solution is to increase spending on the category of animation, adventure and action films, and raise the annual production of them, and reduce spending on comedies and dramas.\n",
    "### limitations\n",
    " >The only problem I faced was the huge **missing value** in the revenue and budget columns, which exceeded 50%, so I had to treat it as **outliers**,It is assumed that before starting the project, this data should be\n",
    " <ul>\n",
    "    <li>ِِAccessable</li>\n",
    "    <li>Accurate</li>\n",
    "    <li>Complete</li>\n",
    "    <li>Flexible</li>\n",
    "    <li>Secure</li>\n",
    "    <li>Timely</li>\n",
    "</ul>"
   ]
  },
  {
   "cell_type": "markdown",
   "metadata": {},
   "source": [
    "\n",
    "\n",
    "> **Tip**: Finally, summarize your findings and the results that have been performed in relation to the question(s) provided at the beginning of the analysis. Summarize the results accurately, and point out where additional research can be done or where additional information could be useful.\n",
    "\n",
    "> **Tip**: Make sure that you are clear with regards to the limitations of your exploration. You should have at least 1 limitation explained clearly. \n",
    "\n",
    "> **Tip**: If you haven't done any statistical tests, do not imply any statistical conclusions. And make sure you avoid implying causation from correlation!\n",
    "\n",
    "> **Tip**: Once you are satisfied with your work here, check over your report to make sure that it is satisfies all the areas of the rubric (found on the project submission page at the end of the lesson). You should also probably remove all of the \"Tips\" like this one so that the presentation is as polished as possible.\n",
    "\n",
    "## Submitting your Project \n",
    "\n",
    "> **Tip**: Before you submit your project, you need to create a .html or .pdf version of this notebook in the workspace here. To do that, run the code cell below. If it worked correctly, you should get a return code of 0, and you should see the generated .html file in the workspace directory (click on the orange Jupyter icon in the upper left).\n",
    "\n",
    "> **Tip**: Alternatively, you can download this report as .html via the **File** > **Download as** submenu, and then manually upload it into the workspace directory by clicking on the orange Jupyter icon in the upper left, then using the Upload button.\n",
    "\n",
    "> **Tip**: Once you've done this, you can submit your project by clicking on the \"Submit Project\" button in the lower right here. This will create and submit a zip file with this .ipynb doc and the .html or .pdf version you created. Congratulations!"
   ]
  },
  {
   "cell_type": "code",
   "execution_count": 138,
   "metadata": {},
   "outputs": [
    {
     "data": {
      "text/plain": [
       "1"
      ]
     },
     "execution_count": 138,
     "metadata": {},
     "output_type": "execute_result"
    }
   ],
   "source": [
    "from subprocess import call\n",
    "call(['python', '-m', 'nbconvert', 'Investigate_a_Dataset.ipynb'])"
   ]
  }
 ],
 "metadata": {
  "kernelspec": {
   "display_name": "Python 3 (ipykernel)",
   "language": "python",
   "name": "python3"
  },
  "language_info": {
   "codemirror_mode": {
    "name": "ipython",
    "version": 3
   },
   "file_extension": ".py",
   "mimetype": "text/x-python",
   "name": "python",
   "nbconvert_exporter": "python",
   "pygments_lexer": "ipython3",
   "version": "3.9.7"
  },
  "vscode": {
   "interpreter": {
    "hash": "1c5be6646cf3b70a993f469d498fdafcf46426095bb9c5b2aa4a65e3b3681a68"
   }
  }
 },
 "nbformat": 4,
 "nbformat_minor": 2
}
